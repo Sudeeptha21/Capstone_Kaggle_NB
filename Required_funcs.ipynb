{
 "cells": [
  {
   "cell_type": "code",
   "execution_count": 1,
   "id": "2e3f0f56",
   "metadata": {},
   "outputs": [],
   "source": [
    "#Importing Packages\n",
    "import pandas as pd\n",
    "import numpy as np\n",
    "import matplotlib.pyplot as plt\n",
    "import seaborn as sns"
   ]
  },
  {
   "cell_type": "code",
   "execution_count": null,
   "id": "d741707a",
   "metadata": {},
   "outputs": [],
   "source": [
    "# filtering the data that has missing values > 65%\n",
    "def dropna_over50(df):\n",
    "    missing_values = df.isnull().sum().sort_values(ascending=False)\n",
    "    missing_percent = (missing_values / len(df) * 100)\n",
    "\n",
    "    missing_data_over_50 = missing_percent[missing_percent > 50]\n",
    "    print(f'There are: {len(missing_data_over_50)} columns missing data over 50%')\n",
    "    print(missing_data_over_50)\n",
    "\n",
    "#dropping columns that have more than 65% null values\n",
    "    df.drop(columns = missing_data_over_50.index, inplace=True)\n",
    "    print('\\n')\n",
    "    print(f'Shape of the df after removing missing data over 50% : {df.shape}')\n",
    "    \n",
    "    return df  "
   ]
  },
  {
   "cell_type": "code",
   "execution_count": null,
   "id": "093fee80",
   "metadata": {},
   "outputs": [],
   "source": [
    "def factorize_cat_cols(df):\n",
    "    \n",
    "    cat_cols = df.select_dtypes(include='object').columns\n",
    "    for col in cat_cols:\n",
    "        df[col] = pd.factorize(df[col])[0]\n",
    "    return df"
   ]
  },
  {
   "cell_type": "code",
   "execution_count": null,
   "id": "b71ae079",
   "metadata": {},
   "outputs": [],
   "source": []
  }
 ],
 "metadata": {
  "kernelspec": {
   "display_name": "Python 3 (ipykernel)",
   "language": "python",
   "name": "python3"
  },
  "language_info": {
   "codemirror_mode": {
    "name": "ipython",
    "version": 3
   },
   "file_extension": ".py",
   "mimetype": "text/x-python",
   "name": "python",
   "nbconvert_exporter": "python",
   "pygments_lexer": "ipython3",
   "version": "3.9.7"
  }
 },
 "nbformat": 4,
 "nbformat_minor": 5
}
